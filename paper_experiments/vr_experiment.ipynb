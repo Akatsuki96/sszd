{
 "cells": [
  {
   "cell_type": "markdown",
   "metadata": {},
   "source": [
    "# Comparison with Variance-reduced Zeroth order\n",
    "In this notebook, we propose some experiments in order to compare SSZD with its variance-reduced variant."
   ]
  },
  {
   "cell_type": "markdown",
   "metadata": {},
   "source": [
    "## Imports"
   ]
  },
  {
   "cell_type": "code",
   "execution_count": 1,
   "metadata": {},
   "outputs": [],
   "source": [
    "import os\n",
    "import numpy as np\n",
    "from sszd import SSZD, SSVRZD\n",
    "import matplotlib\n",
    "import matplotlib.pyplot as plt\n",
    "from experiments_utils.synthetic_functions import BenchmarkFunction\n",
    "\n",
    "out_dir = \"./results/variance_reduced\"\n",
    "\n",
    "os.makedirs(out_dir, exist_ok=True)"
   ]
  },
  {
   "cell_type": "code",
   "execution_count": 2,
   "metadata": {},
   "outputs": [],
   "source": [
    "class SVRG_ZD:\n",
    "    \n",
    "    def __init__(self, f, d, l, seed = 12):\n",
    "        self.d = d\n",
    "        self.l = l\n",
    "        self.f = f\n",
    "        self.rnd_state = np.random.RandomState(seed=seed)\n",
    "        \n",
    "    def generate_directions(self):\n",
    "        Zk = self.rnd_state.randn(self.d, self.l).astype(np.float64)\n",
    "        Q_k, R_k = np.linalg.qr(Zk, mode=\"complete\")\n",
    "        diag_R_k = np.diag(R_k)\n",
    "        D = (diag_R_k / np.abs(diag_R_k)) * np.eye(self.d, self.l, dtype=np.float64)        \n",
    "        P_k =  np.sqrt(self.d / self.l) * Q_k.dot(D)\n",
    "        return P_k\n",
    "        \n",
    "    def approx_gradient(self, x, z, P, h):\n",
    "        grad = np.zeros(P.shape[0]) # initialize gradient as [0,...,0] \\in \\R^d\n",
    "        fx = self.f(x, z)\n",
    "        for i in range(P.shape[1]):\n",
    "            grad += ((self.f(x + h * P[:, i], z) - fx)/h) * P[:, i]\n",
    "        return grad\n",
    "        \n",
    "    def optimize(self, x, alpha, h, sample_z, cb, T = 1000, m = 100):\n",
    "        for tau in range(1, T + 1): # outer loop\n",
    "            h_tau = h(tau)\n",
    "            P_tau = self.generate_directions()\n",
    "            grad_f = self.approx_gradient(x, None, P_tau, h_tau) # \\nabla f(x_\\tau)\n",
    "            x_k = x\n",
    "            x_next = np.zeros(self.d)\n",
    "            alpha_tau = alpha(tau)\n",
    "            for k in range(1, m + 1):\n",
    "                z_k = sample_z(self.rnd_state)\n",
    "                P_k = self.generate_directions()\n",
    "                grad_F = self.approx_gradient(x_k, z_k, P_tau, h_tau)\n",
    "                grad_F_tau = self.approx_gradient(x, z_k, P_tau, h_tau)\n",
    "                x_k = x_k - alpha(k) * (grad_F + grad_f - grad_F_tau)\n",
    "            x = x_k \n",
    "            if cb is not None:\n",
    "                cb(self, x)\n",
    "        return x\n",
    "    \n",
    "    "
   ]
  },
  {
   "cell_type": "code",
   "execution_count": 3,
   "metadata": {},
   "outputs": [],
   "source": [
    "class SSZD:\n",
    "    \n",
    "    def __init__(self, f, d, l, seed = 12):\n",
    "        self.d = d\n",
    "        self.l = l\n",
    "        self.f = f\n",
    "        self.rnd_state = np.random.RandomState(seed=seed)\n",
    "        \n",
    "    def generate_directions(self):\n",
    "        Zk = self.rnd_state.randn(self.d, self.l).astype(np.float64)\n",
    "        Q_k, R_k = np.linalg.qr(Zk, mode=\"complete\")\n",
    "        diag_R_k = np.diag(R_k)\n",
    "        D = (diag_R_k / np.abs(diag_R_k)) * np.eye(self.d, self.l, dtype=np.float64)        \n",
    "        P_k =  np.sqrt(self.d / self.l) * Q_k.dot(D)\n",
    "        return P_k\n",
    "        \n",
    "    def approx_gradient(self, x, z, P, h):\n",
    "        grad = np.zeros(P.shape[0]) # initialize gradient as [0,...,0] \\in \\R^d\n",
    "        fx = self.f(x, z)\n",
    "        for i in range(P.shape[1]):\n",
    "            grad += ((self.f(x + h * P[:, i], z) - fx)/h) * P[:, i]\n",
    "        return grad\n",
    "        \n",
    "    def optimize(self, x, alpha, h, sample_z, cb, T = 1000):\n",
    "        for tau in range(1, T + 1): # outer loop\n",
    "            h_tau = h(tau)\n",
    "            P_tau = self.generate_directions()\n",
    "            grad_F = self.approx_gradient(x, sample_z(self.rnd_state), P_tau, h_tau) # \\nabla f(x_\\tau)\n",
    "            x = x - alpha(tau) * grad_F\n",
    "            if cb is not None:\n",
    "                cb(self, x)\n",
    "        return x\n",
    "    \n",
    "    "
   ]
  },
  {
   "cell_type": "code",
   "execution_count": 4,
   "metadata": {},
   "outputs": [],
   "source": [
    "d = 10\n",
    "rnd_state = np.random.RandomState(12)\n",
    "\n",
    "w = rnd_state.rand(d, 1)\n",
    "\n",
    "def generate_data(n_points, w, rnd_state, sigma_noise=0.1):\n",
    "    X = np.zeros((n_points, d))\n",
    "    for i in range(d):\n",
    "        X[:, i] = rnd_state.uniform(-1, 2, size=n_points)\n",
    "    \n",
    "    gauss_noise = rnd_state.normal(0, sigma_noise, size=(n_points, 1))\n",
    "\n",
    "    y = np.dot(X, w) + gauss_noise\n",
    "    \n",
    "    return X, y    \n",
    "\n",
    "n_points = 100\n",
    "    \n",
    "X, y = generate_data(n_points, w, rnd_state, sigma_noise=0.1)"
   ]
  },
  {
   "cell_type": "code",
   "execution_count": 5,
   "metadata": {},
   "outputs": [],
   "source": [
    "from sklearn.model_selection import train_test_split\n",
    "\n",
    "X_train, X_test, y_train, y_test = train_test_split(X, y, test_size=0.3, shuffle=True)\n",
    "\n",
    "\n",
    "def mse(y, y_pred):\n",
    "    return ((y - y_pred)**2).mean()\n",
    "\n",
    "def target(w, z = None):\n",
    "    w = w.reshape(-1, 1)\n",
    "    if z is None:\n",
    "        X, y = X_train, y_train\n",
    "    else:\n",
    "        X, y = z\n",
    "    y_pred = X.dot(w)\n",
    "    return mse(y, y_pred)"
   ]
  },
  {
   "cell_type": "code",
   "execution_count": 6,
   "metadata": {},
   "outputs": [],
   "source": [
    "def sample_z(rnd_state):\n",
    "    idx = rnd_state.randint(low=0, high=X_train.shape[0])\n",
    "    return (X_train[idx, :], y_train[idx, :])\n",
    "\n",
    "l = d"
   ]
  },
  {
   "cell_type": "code",
   "execution_count": 33,
   "metadata": {},
   "outputs": [],
   "source": [
    "zd = SSZD(target, d, l, seed = 12)\n",
    "sszd = SSZD(target, d, l, seed = 12)\n",
    "svrg_zd = SVRG_ZD(target, d, l, seed = 12)\n",
    "w = np.zeros(d) + 200\n",
    "alpha = lambda k : 0.01 * 1/np.sqrt(k)\n",
    "h = lambda k : 1/k\n",
    "\n",
    "#    def optimize(self, x, alpha, h, sample_z, cb, T = 1000, m = 100):\n",
    "\n",
    "\n",
    "results_zd = [target(w)]\n",
    "results_sszd = [target(w)]\n",
    "results_vr = [target(w)]\n",
    "results_rv = [target(w)]\n",
    "\n",
    "def cb_sszd(opt, x):\n",
    "    results_sszd.append(target(x))\n",
    "\n",
    "def cb_vr(opt, x):\n",
    "    results_vr.append(target(x))\n",
    "\n",
    "def cb_rv(opt, x):\n",
    "    results_rv.append(target(x))\n",
    "\n",
    "def cb_zd(opt, x):\n",
    "    results_zd.append(target(x))\n",
    "\n",
    "T_vr = 100\n",
    "m = 100\n",
    "\n",
    "T_sz = T_vr * (m + X_train.shape[0])\n",
    "\n",
    "rs_sszd = []\n",
    "rs_vr = [] \n",
    "for _ in range(10):   \n",
    "    w_sszd = sszd.optimize(w, alpha, h, sample_z, cb_sszd, T = T_sz)\n",
    "    w_vr = svrg_zd.optimize(w, alpha, h, sample_z, cb_vr, T = T_vr, m = m)\n",
    "    rs_sszd.append(results_sszd)\n",
    "    rs_vr.append(results_vr)\n",
    "    w = np.zeros(d) + 200\n",
    "    results_sszd, results_vr = [target(w)], [target(w)]\n",
    "    \n",
    "\n"
   ]
  },
  {
   "cell_type": "code",
   "execution_count": 36,
   "metadata": {},
   "outputs": [
    {
     "data": {
      "text/plain": [
       "17001"
      ]
     },
     "execution_count": 36,
     "metadata": {},
     "output_type": "execute_result"
    }
   ],
   "source": [
    "len(rs_sszd[0])"
   ]
  },
  {
   "cell_type": "code",
   "execution_count": 41,
   "metadata": {},
   "outputs": [
    {
     "data": {
      "text/plain": [
       "17001"
      ]
     },
     "execution_count": 41,
     "metadata": {},
     "output_type": "execute_result"
    }
   ],
   "source": [
    "results_sszd, std_sszd = np.mean(np.asarray(rs_sszd).reshape(10, -1), axis=0), np.std(np.asarray(rs_sszd).reshape(10, -1), axis=0)\n",
    "results_vr, std_vr = np.mean(np.asarray(rs_vr).reshape(10, -1), axis=0), np.std(np.asarray(rs_vr).reshape(10, -1), axis=0)\n",
    "\n",
    "results_vr_repl = np.asarray([results_vr[0]] + [v for v in results_vr[1:] for i in range(m + X_train.shape[0])])\n",
    "std_vr = np.asarray([std_vr[0]] + [v for v in std_vr[1:] for i in range(m + X_train.shape[0])])\n",
    "\n",
    "len(results_vr_repl)\n"
   ]
  },
  {
   "cell_type": "code",
   "execution_count": 60,
   "metadata": {},
   "outputs": [
    {
     "data": {
      "image/png": "[encoded data removed]",
      "text/plain": [
       "<Figure size 720x504 with 1 Axes>"
      ]
     },
     "metadata": {
      "needs_background": "light"
     },
     "output_type": "display_data"
    }
   ],
   "source": [
    "fig, ax = plt.subplots(figsize=(10, 7))\n",
    "\n",
    "ax.plot(range(len(results_sszd)), results_sszd, '-', color='darkorange', lw=3, label='S-SZD')\n",
    "ax.fill_between(range(len(results_sszd)), results_sszd + std_sszd, results_sszd - std_sszd,  color='orange', alpha=0.4)\n",
    "ax.plot(range(len(results_sszd)), results_vr_repl, '-', color='darkgreen', lw=3, label='S-SVRZD')\n",
    "ax.fill_between(range(len(results_sszd)), results_vr_repl + std_vr, results_vr_repl - std_vr,  color='green', alpha=0.4)\n",
    "ax.set_yscale(\"log\")\n",
    "ax.set_xlabel(\"$\\# \\\\tilde{\\\\nabla} F(x, z)$\", fontsize=20)\n",
    "ax.set_ylabel(\"$f(x)$\", fontsize=20)\n",
    "ax.legend(fontsize=18)\n",
    "fig.tight_layout()\n",
    "plt.savefig(\"./results/variance_reduced/linear_reg.pdf\", bbox_inches='tight')"
   ]
  },
  {
   "cell_type": "code",
   "execution_count": null,
   "metadata": {},
   "outputs": [],
   "source": []
  }
 ],
 "metadata": {
  "kernelspec": {
   "display_name": "Python 3 (ipykernel)",
   "language": "python",
   "name": "python3"
  },
  "language_info": {
   "codemirror_mode": {
    "name": "ipython",
    "version": 3
   },
   "file_extension": ".py",
   "mimetype": "text/x-python",
   "name": "python",
   "nbconvert_exporter": "python",
   "pygments_lexer": "ipython3",
   "version": "3.10.4"
  },
  "vscode": {
   "interpreter": {
    "hash": "9f0609ce5dbb0391b4a05dec91d3ef5804229e3aa6e7a6653af86e816c04bd87"
   }
  }
 },
 "nbformat": 4,
 "nbformat_minor": 2
}
